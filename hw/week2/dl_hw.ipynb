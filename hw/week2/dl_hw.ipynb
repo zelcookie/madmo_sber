{
 "cells": [
  {
   "cell_type": "code",
   "execution_count": 1,
   "metadata": {
    "colab": {},
    "colab_type": "code",
    "id": "jDDd8zvPY8w_"
   },
   "outputs": [],
   "source": [
    "import torch\n",
    "import numpy as np\n",
    "from IPython.display import clear_output\n",
    "import random\n",
    "import os"
   ]
  },
  {
   "cell_type": "code",
   "execution_count": 2,
   "metadata": {},
   "outputs": [],
   "source": [
    "def seed_everything(seed_value):\n",
    "    random.seed(seed_value)\n",
    "    np.random.seed(seed_value)\n",
    "    torch.manual_seed(seed_value)\n",
    "    os.environ['PYTHONHASHSEED'] = str(seed_value)\n",
    "    \n",
    "    if torch.cuda.is_available(): \n",
    "        torch.cuda.manual_seed(seed_value)\n",
    "        torch.cuda.manual_seed_all(seed_value)\n",
    "        torch.backends.cudnn.deterministic = True\n",
    "        torch.backends.cudnn.benchmark = True\n",
    "\n",
    "seed = 12\n",
    "seed_everything(seed)"
   ]
  },
  {
   "cell_type": "code",
   "execution_count": 3,
   "metadata": {
    "colab": {},
    "colab_type": "code",
    "id": "W_ru21cQY8xK"
   },
   "outputs": [
    {
     "name": "stdout",
     "output_type": "stream",
     "text": [
      "X :\n",
      " [[ 0  1  2  3]\n",
      " [ 4  5  6  7]\n",
      " [ 8  9 10 11]\n",
      " [12 13 14 15]]\n",
      "add 5 :\n",
      "[[ 5  6  7  8]\n",
      " [ 9 10 11 12]\n",
      " [13 14 15 16]\n",
      " [17 18 19 20]]\n",
      "X*X^T  :\n",
      " [[ 14  38  62  86]\n",
      " [ 38 126 214 302]\n",
      " [ 62 214 366 518]\n",
      " [ 86 302 518 734]]\n",
      "mean over cols :\n",
      "[ 1.5  5.5  9.5 13.5]\n",
      "cumsum of cols :\n",
      "[[ 0  1  2  3]\n",
      " [ 4  6  8 10]\n",
      " [12 15 18 21]\n",
      " [24 28 32 36]]\n"
     ]
    }
   ],
   "source": [
    "# numpy world\n",
    "\n",
    "x = np.arange(16).reshape(4, 4)\n",
    "\n",
    "print(\"X :\\n %s\" % x)\n",
    "print(\"add 5 :\\n%s\" % (x + 5))\n",
    "print(\"X*X^T  :\\n\", np.dot(x, x.T))\n",
    "print(\"mean over cols :\\n%s\" % (x.mean(axis=-1)))\n",
    "print(\"cumsum of cols :\\n%s\" % (np.cumsum(x, axis=0)))"
   ]
  },
  {
   "cell_type": "code",
   "execution_count": 4,
   "metadata": {
    "colab": {
     "base_uri": "https://localhost:8080/",
     "height": 391
    },
    "colab_type": "code",
    "id": "_NqOKnrFY8xQ",
    "outputId": "053d56d2-f22c-444a-8677-c1b8c507e47e"
   },
   "outputs": [
    {
     "name": "stdout",
     "output_type": "stream",
     "text": [
      "X :\n",
      "tensor([[ 0.,  1.,  2.,  3.],\n",
      "        [ 4.,  5.,  6.,  7.],\n",
      "        [ 8.,  9., 10., 11.],\n",
      "        [12., 13., 14., 15.]])\n",
      "add 5 :\n",
      "tensor([[ 5.,  6.,  7.,  8.],\n",
      "        [ 9., 10., 11., 12.],\n",
      "        [13., 14., 15., 16.],\n",
      "        [17., 18., 19., 20.]])\n",
      "X*X^T  :\n",
      " tensor([[ 14.,  38.,  62.,  86.],\n",
      "        [ 38., 126., 214., 302.],\n",
      "        [ 62., 214., 366., 518.],\n",
      "        [ 86., 302., 518., 734.]])\n",
      "mean over cols :\n",
      " tensor([ 1.5000,  5.5000,  9.5000, 13.5000])\n",
      "cumsum of cols :\n",
      " tensor([[ 0.,  1.,  2.,  3.],\n",
      "        [ 4.,  6.,  8., 10.],\n",
      "        [12., 15., 18., 21.],\n",
      "        [24., 28., 32., 36.]])\n"
     ]
    }
   ],
   "source": [
    "# pytorch world\n",
    "\n",
    "x = np.arange(16).reshape(4, 4)\n",
    "\n",
    "x = torch.from_numpy(x).type(torch.FloatTensor) #or torch.arange(0,16).view(4,4)\n",
    "\n",
    "print(\"X :\\n%s\" % x)\n",
    "print(\"add 5 :\\n%s\" % (x + 5))\n",
    "print(\"X*X^T  :\\n\", torch.matmul(x, x.transpose(1, 0)))\n",
    "print(\"mean over cols :\\n\", torch.mean(x, dim=-1))\n",
    "print(\"cumsum of cols :\\n\", torch.cumsum(x, dim=0))"
   ]
  },
  {
   "cell_type": "markdown",
   "metadata": {
    "colab_type": "text",
    "id": "lxJiOWdJY8xW"
   },
   "source": [
    "## NumPy vs Pytorch\n",
    "\n",
    "Numpy и Pytorch не требуют описания статического графа вычислений. \n",
    "\n",
    "Можно отлаживаться с помощью pdb или просто print.\n",
    "\n",
    "API несколько различается:\n",
    "\n",
    "```\n",
    "x.reshape([1,2,8]) -> x.view(1,2,8)\n",
    "x.sum(axis=-1) -> x.sum(dim=-1)\n",
    "x.astype('int64') -> x.type(torch.int64)\n",
    "```\n",
    "\n",
    "\n",
    "Легко конвертировать между собой:\n",
    "\n",
    "```\n",
    "torch.from_numpy(npx) -- вернет Tensor\n",
    "tt.numpy() -- вернет Numpy Array\n",
    "```\n",
    "\n",
    "Преобразовать тензор из одного числа в обычное питоновское число:\n",
    "```\n",
    "torch.tensor([1]).item() -> 1\n",
    "```\n",
    "\n",
    "\n",
    "Если что:\n",
    "- смотрите документацию https://pytorch.org/docs/\n",
    "- гуглите (Stackoverflow/tutorials)"
   ]
  },
  {
   "cell_type": "code",
   "execution_count": 5,
   "metadata": {
    "colab": {},
    "colab_type": "code",
    "id": "kWKDglA_Y8xX"
   },
   "outputs": [
    {
     "name": "stdout",
     "output_type": "stream",
     "text": [
      "[1. 1. 1. 1. 1. 1. 1. 1. 1. 1. 1. 1. 1. 1. 1. 1.]\n"
     ]
    }
   ],
   "source": [
    "x = torch.linspace(0, 2 * np.pi, 16, dtype=torch.float64)\n",
    "\n",
    "#Mini-task: compute a vector of sin^2(x) + cos^2(x)\n",
    "out = torch.sin(x)**2 + torch.cos(x)**2\n",
    "\n",
    "print(out.numpy())"
   ]
  },
  {
   "cell_type": "markdown",
   "metadata": {
    "colab_type": "text",
    "id": "WvBccGm8Y8xh"
   },
   "source": [
    "# Automatic gradients\n",
    "\n",
    "У каждого тензора в Pytorch есть флаг `requires_grad`, который отвечает за автоматическое вычисление градиентов:\n",
    "\n",
    "1. Создать переменную: `a = torch.tensor(..., requires_grad=True)`\n",
    "\n",
    "2. Определить какую-нибудь дифференцируемую функцию `loss = whatever(a)`\n",
    "\n",
    "3. Запросить обратный проход `loss.backward()`\n",
    "\n",
    "4. Градиенты будут доступны в `a.grads`\n",
    "\n",
    "\n",
    "Есть два важных отличия Pytorch от Theano/TF:\n",
    "\n",
    "1. Функцию ошибки можно изменять динамически, например на каждом минибатче.\n",
    "\n",
    "2. После вычисления `.backward()` градиенты сохраняются в `.grad` каждой задействованной переменной, при повторных вызовах градиенты суммируются. Это позволяет использовать несколько функций ошибок или виртуально увеличивать batch_size. Поэтому, после каждого шага оптимизатора градиенты стоит обнулять.\n",
    "\n",
    "\n",
    "\n",
    "## Leaf vs Non-leaf Variable:\n",
    "```\n",
    "x = torch.tensor([1., 2., 3., 4.], requires_grad=True))  # leaf tensor\n",
    "y = x + 1  # not a leaf variable\n",
    "```\n",
    "\n",
    "Градиенты будут сохранены и доступны для использования только для `leaf tensor`.\n",
    "Такое поведение по-умолчанию сделано ради экономии памяти. Все тензоры с флагом `requires_grad = False` считаются`leaf tensors` по умолчанию.\n",
    "\n",
    "\n",
    "Обратите внимание, что вычисление градиентов работает только для тензоров с вещественным типом данных:"
   ]
  },
  {
   "cell_type": "code",
   "execution_count": 6,
   "metadata": {
    "colab": {},
    "colab_type": "code",
    "id": "UCMFdtG1kbKo"
   },
   "outputs": [],
   "source": [
    "# # will not work\n",
    "# x = torch.tensor([1, 2, 3, 4], requires_grad=True)"
   ]
  },
  {
   "cell_type": "markdown",
   "metadata": {
    "colab_type": "text",
    "id": "1zIjcCUJ1T1V"
   },
   "source": [
    "\n",
    "Чтобы выставить флаг `requires_grad=False` и выключить автоматическое вычисление градиентов для нескольких тензоров, можно использовать `with torch.no_grad()` или `detach`:"
   ]
  },
  {
   "cell_type": "code",
   "execution_count": 7,
   "metadata": {
    "colab": {},
    "colab_type": "code",
    "id": "1JQjCVpb1Uy1"
   },
   "outputs": [
    {
     "name": "stdout",
     "output_type": "stream",
     "text": [
      "True\n",
      "True\n",
      "False\n",
      "False\n"
     ]
    }
   ],
   "source": [
    "x = torch.tensor([1.], requires_grad=True)\n",
    "y = x**2\n",
    "print(x.requires_grad)\n",
    "print(y.requires_grad)\n",
    "\n",
    "with torch.no_grad():\n",
    "    z = torch.exp(x)\n",
    "    print(z.requires_grad)\n",
    "    \n",
    "# detach from the graph\n",
    "w = torch.log(x).detach()\n",
    "print(w.requires_grad)"
   ]
  },
  {
   "cell_type": "markdown",
   "metadata": {
    "colab_type": "text",
    "id": "-NHwzSqakbUt"
   },
   "source": [
    "Рассмотрим пример линейной регрессии на датасете Boston"
   ]
  },
  {
   "cell_type": "code",
   "execution_count": 8,
   "metadata": {
    "colab": {},
    "colab_type": "code",
    "id": "8sVwJ5DfY8xj"
   },
   "outputs": [
    {
     "data": {
      "text/plain": [
       "<matplotlib.collections.PathCollection at 0x7f2911039f98>"
      ]
     },
     "execution_count": 8,
     "metadata": {},
     "output_type": "execute_result"
    },
    {
     "data": {
      "image/png": "[encoded data removed]",
      "text/plain": [
       "<Figure size 432x288 with 1 Axes>"
      ]
     },
     "metadata": {
      "needs_background": "light"
     },
     "output_type": "display_data"
    }
   ],
   "source": [
    "%matplotlib inline\n",
    "import matplotlib.pyplot as plt\n",
    "from sklearn.datasets import load_boston\n",
    "\n",
    "x, y = load_boston(return_X_y=True)\n",
    "\n",
    "#select one column for simplicity. \n",
    "x = x[:, -1] / x[:, -1].std()\n",
    "y = y / y.std()\n",
    "\n",
    "plt.scatter(x, y)"
   ]
  },
  {
   "cell_type": "code",
   "execution_count": 9,
   "metadata": {
    "colab": {},
    "colab_type": "code",
    "id": "iqXtxfdjY8xr"
   },
   "outputs": [
    {
     "name": "stdout",
     "output_type": "stream",
     "text": [
      "True True\n",
      "True True\n",
      "True False\n",
      "True False\n"
     ]
    }
   ],
   "source": [
    "# model tensors\n",
    "w = torch.zeros(1, requires_grad=True)\n",
    "b = torch.zeros(1, requires_grad=True)\n",
    "\n",
    "# data tensors\n",
    "x = torch.from_numpy(x).type(torch.float)\n",
    "y = torch.from_numpy(y).type(torch.float)\n",
    "\n",
    "# все тензоры являются leaf-tensors\n",
    "# x и y не требуют вычисления градиентов\n",
    "for vv in [w, b, x, y]:\n",
    "    print(vv.is_leaf, vv.requires_grad)"
   ]
  },
  {
   "cell_type": "code",
   "execution_count": 10,
   "metadata": {
    "colab": {},
    "colab_type": "code",
    "id": "KxTI1pQhY8x2",
    "scrolled": true
   },
   "outputs": [
    {
     "name": "stdout",
     "output_type": "stream",
     "text": [
      "dL/dw = \n",
      " tensor([-7.2240])\n",
      "dL/db = \n",
      " tensor([-4.9048])\n",
      "Non-Leaf x dL/dx = \n",
      " None\n",
      "Non-Leaf loss dL/dpred = \n",
      " None\n"
     ]
    },
    {
     "name": "stderr",
     "output_type": "stream",
     "text": [
      "/home/mikhail/.local/lib/python3.6/site-packages/torch/tensor.py:746: UserWarning: The .grad attribute of a Tensor that is not a leaf Tensor is being accessed. Its .grad attribute won't be populated during autograd.backward(). If you indeed want the gradient for a non-leaf Tensor, use .retain_grad() on the non-leaf Tensor. If you access the non-leaf Tensor by mistake, make sure you access the leaf Tensor instead. See github.com/pytorch/pytorch/pull/30531 for more informations.\n",
      "  warnings.warn(\"The .grad attribute of a Tensor that is not a leaf Tensor is being accessed. Its .grad \"\n"
     ]
    }
   ],
   "source": [
    "#try out gradients\n",
    "y_pred = w * x + b\n",
    "loss = torch.mean((y_pred - y)**2)\n",
    "\n",
    "loss.backward()\n",
    "\n",
    "#now w.grad is a tensor containing gradient of L w.r.t. w\n",
    "\n",
    "print(\"dL/dw = \\n\", w.grad)\n",
    "print(\"dL/db = \\n\", b.grad)\n",
    "\n",
    "# no gradients for tensors with requires_grad=False\n",
    "# and non-leaf tensors\n",
    "print(\"Non-Leaf x dL/dx = \\n\", x.grad)\n",
    "print(\"Non-Leaf loss dL/dpred = \\n\", y_pred.grad)"
   ]
  },
  {
   "cell_type": "markdown",
   "metadata": {
    "colab_type": "text",
    "id": "PWC6fHzWY8x6"
   },
   "source": [
    "## Градиенты промежуточных вершин\n",
    "\n",
    "В графе, который мы описали `x` и `y_pread` не являются листовыми вершинами. По умолчанию для них не сохраняются градиенты.\n",
    "\n",
    "Для промежуточных вершин мы можем запросить сохранение градиентов с помощью функции `.retain_grad()`.\n"
   ]
  },
  {
   "cell_type": "code",
   "execution_count": 11,
   "metadata": {
    "colab": {},
    "colab_type": "code",
    "id": "IsPhBEdlY8x7"
   },
   "outputs": [
    {
     "name": "stdout",
     "output_type": "stream",
     "text": [
      "Non-Leaf loss dL/dpred = \n",
      " tensor([-0.0103, -0.0093, -0.0149, -0.0144, -0.0156, -0.0123, -0.0099, -0.0117,\n",
      "        -0.0071, -0.0081])\n"
     ]
    }
   ],
   "source": [
    "y_pred = w * x + b\n",
    "\n",
    "# check this:\n",
    "y_pred.retain_grad()\n",
    "\n",
    "loss = torch.mean((y_pred - y)**2)\n",
    "loss.backward()\n",
    "\n",
    "print(\"Non-Leaf loss dL/dpred = \\n\", y_pred.grad[:10])"
   ]
  },
  {
   "cell_type": "markdown",
   "metadata": {
    "colab_type": "text",
    "id": "5qSGyePQY8x-"
   },
   "source": [
    "# Линейная регрессия"
   ]
  },
  {
   "cell_type": "code",
   "execution_count": 12,
   "metadata": {
    "colab": {},
    "colab_type": "code",
    "id": "mj_-PaVzY8yA"
   },
   "outputs": [
    {
     "data": {
      "image/png": "[encoded data removed]",
      "text/plain": [
       "<Figure size 432x288 with 1 Axes>"
      ]
     },
     "metadata": {
      "needs_background": "light"
     },
     "output_type": "display_data"
    },
    {
     "name": "stdout",
     "output_type": "stream",
     "text": [
      "loss =  0.49713197350502014\n",
      "Done!\n"
     ]
    }
   ],
   "source": [
    "from IPython.display import clear_output\n",
    "\n",
    "for i in range(100):\n",
    "    \n",
    "    #compute loss\n",
    "    y_pred = w * x  + b\n",
    "    loss = torch.mean((y_pred - y)**2)\n",
    "    \n",
    "    # backprop\n",
    "    loss.backward()\n",
    "    print(w.grad)\n",
    "    # gradient descent step for weights\n",
    "    # take alpha about 0.1\n",
    "    w.data -= w.grad * 0.1\n",
    "    b.data -= b.grad * 0.1\n",
    "    \n",
    "    #zero gradients\n",
    "    w.grad.zero_()\n",
    "    b.grad.zero_()\n",
    "    \n",
    "    #the rest of code is just bells and whistles\n",
    "    if (i + 1) % 5==0:\n",
    "        #draw linear regression prediction vs data\n",
    "        clear_output(True)\n",
    "        plt.axhline(0, color='gray')\n",
    "        plt.axvline(0, color='gray')\n",
    "        plt.scatter(x.numpy(),y.numpy())\n",
    "        plt.plot(x.numpy(),y_pred.data.numpy(),color='orange')\n",
    "        plt.show()\n",
    "\n",
    "        print(\"loss = \", loss.item())\n",
    "        if loss.item() < 0.5:\n",
    "            print(\"Done!\")\n",
    "            break"
   ]
  },
  {
   "cell_type": "markdown",
   "metadata": {
    "colab_type": "text",
    "id": "DiEVpQBQY8yE"
   },
   "source": [
    "# Optimizers\n",
    "\n",
    "В этом примере мы пользовались простым правилом для градиентного спуска:\n",
    "  \n",
    "$$\\theta^{n+1} = \\theta^{n} - \\alpha \\nabla_{\\theta}L$$\n",
    "\n",
    "\n",
    "Единственным параметром в нем является $\\alpha$ -- это `learning_rate`.\n",
    "\n",
    "На практике часто используют различные модификации (например _Momentum_):\n",
    "\n",
    "$$\\theta^{n+1} = \\theta^{n} - U^{n}\\\\\n",
    "U^{n} = \\gamma U^{n-1} + \\alpha \\nabla_{\\theta}(L)\n",
    "$$\n",
    "\n",
    "Хороший обзор алгоритмов оптимизации для сетей можно посмотреть [тут](http://ruder.io/optimizing-gradient-descent/).\n",
    "\n",
    "\n",
    "\n",
    "Pytorch предоставляет практически все широкораспространненные оптимизаторы:    \n",
    "http://pytorch.org/docs/master/optim.html\n",
    "\n",
    "\n",
    "\n",
    "\n",
    "Оптимизаторы удобны в использовании:\n",
    "\n",
    "- требуется указать список переменных для оптимизации\n",
    "- `opt.step()` применяет `update` ($U^{n}$) к весам\n",
    "- `opt.zero_grad()` сбрасывает градиенты\n",
    "\n",
    "\n",
    "\n"
   ]
  },
  {
   "cell_type": "code",
   "execution_count": 13,
   "metadata": {
    "colab": {},
    "colab_type": "code",
    "id": "crmZenu4Y8yF"
   },
   "outputs": [
    {
     "data": {
      "image/png": "[encoded data removed]",
      "text/plain": [
       "<Figure size 432x288 with 1 Axes>"
      ]
     },
     "metadata": {
      "needs_background": "light"
     },
     "output_type": "display_data"
    },
    {
     "name": "stdout",
     "output_type": "stream",
     "text": [
      "loss =  0.49351754784584045\n",
      "Done!\n"
     ]
    }
   ],
   "source": [
    "# get data\n",
    "x, y = load_boston(return_X_y=True)\n",
    "x = x[:, -1] / x[:, -1].std()\n",
    "y = y / y.std()\n",
    "\n",
    "# data tensors\n",
    "x = torch.from_numpy(x).type(torch.float)\n",
    "y = torch.from_numpy(y).type(torch.float)\n",
    "\n",
    "# model tensors\n",
    "w = torch.zeros(1, requires_grad=True)\n",
    "b = torch.zeros(1, requires_grad=True)\n",
    "\n",
    "# define optimizer\n",
    "opt = torch.optim.RMSprop([w, b], lr=0.1)\n",
    "\n",
    "for i in range(100):\n",
    "    # compute loss\n",
    "    y_pred = w * x  + b\n",
    "    loss = torch.mean((y_pred - y)**2)\n",
    "    \n",
    "    # backprop and gradient descent\n",
    "    loss.backward()\n",
    "    opt.step()\n",
    "    opt.zero_grad()\n",
    "    \n",
    "    #the rest of code is just bells and whistles\n",
    "    if (i + 1) % 5 == 0:\n",
    "        #draw linear regression prediction vs data\n",
    "        clear_output(True)\n",
    "        plt.axhline(0, color='gray')\n",
    "        plt.axvline(0, color='gray')\n",
    "        plt.scatter(x.numpy(), y.numpy())\n",
    "        plt.plot(x.numpy(), y_pred.data.numpy(), color='orange')\n",
    "        plt.show()\n",
    "\n",
    "        print(\"loss = \", loss.item())\n",
    "        if loss.item() < 0.5:\n",
    "            print(\"Done!\")\n",
    "            break"
   ]
  },
  {
   "cell_type": "markdown",
   "metadata": {
    "colab_type": "text",
    "collapsed": true,
    "id": "8qoOsLGuY8yK"
   },
   "source": [
    "## Highlevel-API \n",
    "\n",
    "При работе с нейронными сетями становится неудобно контролировать переменные с весами по-отдельности. Pytorch предоставляет высокоуровневый API для моделей http://pytorch.org/docs/master/nn.html#torch.nn.Module.\n",
    "\n",
    "\n",
    "Чтобы воспользоваться моделью необходимо отнаследоваться от torch.nn.Module, определить слои и описать `forward`, `backward` будет вычислен автоматически.\n",
    "\n",
    "\n",
    "Для демонстрации снова воспользуемся MNIST'ом."
   ]
  },
  {
   "cell_type": "code",
   "execution_count": 14,
   "metadata": {
    "colab": {},
    "colab_type": "code",
    "id": "pP-mINCsY8yL"
   },
   "outputs": [
    {
     "data": {
      "image/png": "[encoded data removed]",
      "text/plain": [
       "<Figure size 432x432 with 4 Axes>"
      ]
     },
     "metadata": {
      "needs_background": "light"
     },
     "output_type": "display_data"
    }
   ],
   "source": [
    "# MNIST again\n",
    "from util import load_mnist\n",
    "X_train, y_train, X_val, y_val, X_test, y_test = load_mnist(flatten=True)\n",
    "\n",
    "plt.figure(figsize=[6, 6])\n",
    "for i in range(4):\n",
    "    plt.subplot(2, 2, i + 1)\n",
    "    plt.title(\"Label: %i\" % y_train[i])\n",
    "    plt.imshow(X_train[i].reshape([28, 28]), cmap='gray');"
   ]
  },
  {
   "cell_type": "code",
   "execution_count": 15,
   "metadata": {
    "colab": {},
    "colab_type": "code",
    "id": "cPDAygXbY8yQ"
   },
   "outputs": [],
   "source": [
    "# Higher-level API:\n",
    "import torch.nn as nn\n",
    "import torch.nn.functional as F\n",
    "\n",
    "class Net(nn.Module):\n",
    "    def __init__(self, hidden_size=40):\n",
    "        super(Net, self).__init__()\n",
    "        # here you construct weights for linear layers \n",
    "        self.fc1 = nn.Linear(28*28, hidden_size)\n",
    "        self.fc2 =  nn.Linear(hidden_size, hidden_size)\n",
    "        self.fc3 = nn.Linear(hidden_size, 10)\n",
    "        \n",
    "    def forward(self, x):\n",
    "        # here you describe usage of layers\n",
    "        x = F.relu(self.fc1(x))\n",
    "        x = F.relu(self.fc2(x))\n",
    "        x = self.fc3(x)\n",
    "        # check log_softmax signature\n",
    "        return F.log_softmax(x, dim=-1)\n",
    "    # backward function computes automaticaly"
   ]
  },
  {
   "cell_type": "code",
   "execution_count": 16,
   "metadata": {
    "colab": {},
    "colab_type": "code",
    "id": "BSuPd8FrY8yU"
   },
   "outputs": [
    {
     "name": "stdout",
     "output_type": "stream",
     "text": [
      "Model outputs: \n",
      " tensor([[-2.2579, -2.1804, -2.2898, -2.2476, -2.4807, -2.3905, -2.2589, -2.1950,\n",
      "         -2.3788, -2.3887],\n",
      "        [-2.2345, -2.1947, -2.3159, -2.2264, -2.4980, -2.4293, -2.2110, -2.1920,\n",
      "         -2.3817, -2.3978],\n",
      "        [-2.3042, -2.1411, -2.2615, -2.2355, -2.5032, -2.4032, -2.2523, -2.2074,\n",
      "         -2.3526, -2.4193],\n",
      "        [-2.2577, -2.2029, -2.2842, -2.2487, -2.4630, -2.4100, -2.2203, -2.1986,\n",
      "         -2.3918, -2.3910],\n",
      "        [-2.2601, -2.2099, -2.2850, -2.2216, -2.4854, -2.4255, -2.2305, -2.1830,\n",
      "         -2.3971, -2.3767],\n",
      "        [-2.2506, -2.1762, -2.2520, -2.2318, -2.4962, -2.3570, -2.3039, -2.1847,\n",
      "         -2.3842, -2.4417],\n",
      "        [-2.2515, -2.1767, -2.2886, -2.2313, -2.4608, -2.3867, -2.2646, -2.2304,\n",
      "         -2.3680, -2.4056],\n",
      "        [-2.2391, -2.1801, -2.2861, -2.2386, -2.4819, -2.3656, -2.2703, -2.1820,\n",
      "         -2.4057, -2.4263],\n",
      "        [-2.2520, -2.1926, -2.2878, -2.2427, -2.4722, -2.4044, -2.2247, -2.2173,\n",
      "         -2.3786, -2.3955],\n",
      "        [-2.2833, -2.2078, -2.2769, -2.2301, -2.4635, -2.3992, -2.2253, -2.1892,\n",
      "         -2.3997, -2.3939]], grad_fn=<LogSoftmaxBackward>)\n",
      "Probs: \n",
      " tensor([[0.1046, 0.1130, 0.1013, 0.1056, 0.0837, 0.0916, 0.1045, 0.1114, 0.0927,\n",
      "         0.0917],\n",
      "        [0.1071, 0.1114, 0.0987, 0.1079, 0.0823, 0.0881, 0.1096, 0.1117, 0.0924,\n",
      "         0.0909],\n",
      "        [0.0998, 0.1175, 0.1042, 0.1069, 0.0818, 0.0904, 0.1052, 0.1100, 0.0951,\n",
      "         0.0890],\n",
      "        [0.1046, 0.1105, 0.1019, 0.1055, 0.0852, 0.0898, 0.1086, 0.1110, 0.0915,\n",
      "         0.0915],\n",
      "        [0.1043, 0.1097, 0.1018, 0.1084, 0.0833, 0.0884, 0.1075, 0.1127, 0.0910,\n",
      "         0.0929],\n",
      "        [0.1053, 0.1135, 0.1052, 0.1073, 0.0824, 0.0947, 0.0999, 0.1125, 0.0922,\n",
      "         0.0870],\n",
      "        [0.1052, 0.1134, 0.1014, 0.1074, 0.0854, 0.0919, 0.1039, 0.1075, 0.0937,\n",
      "         0.0902],\n",
      "        [0.1066, 0.1130, 0.1017, 0.1066, 0.0836, 0.0939, 0.1033, 0.1128, 0.0902,\n",
      "         0.0884],\n",
      "        [0.1052, 0.1116, 0.1015, 0.1062, 0.0844, 0.0903, 0.1081, 0.1089, 0.0927,\n",
      "         0.0911],\n",
      "        [0.1019, 0.1099, 0.1026, 0.1075, 0.0851, 0.0908, 0.1080, 0.1120, 0.0907,\n",
      "         0.0913]], grad_fn=<ExpBackward>)\n",
      "Pred: \n",
      " [1 7 1 7 7 1 1 1 1 7]\n",
      "Truth: \n",
      " [5 0 4 1 9 2 1 3 1 4]\n"
     ]
    }
   ],
   "source": [
    "# model interface:\n",
    "model = Net()\n",
    "tt = torch.from_numpy(X_train[:10, :].astype(np.float32))\n",
    "output = model(tt)\n",
    "\n",
    "print('Model outputs: \\n', output)\n",
    "# TODO: получите вероятности из output c помощью функций из torch\n",
    "# hint: см документацию к log_softmax\n",
    "probs = torch.exp(output)\n",
    "print('Probs: \\n', probs)\n",
    "\n",
    "# TODO: получите предсказание из output c помощью функций из torch\n",
    "pred = torch.argmax(output, axis = 1)\n",
    "print('Pred: \\n', pred.data.numpy())\n",
    "print('Truth: \\n', y_train[:10])"
   ]
  },
  {
   "cell_type": "markdown",
   "metadata": {
    "colab_type": "text",
    "id": "J9v9SIlDY8yZ"
   },
   "source": [
    "Тренировка сети\n",
    "\n",
    "Для тренировки сети нам требуется \n",
    "- итератор по данным\n",
    "- функция тренировки (прогон по данным, вычисление и применение градиентов)\n",
    "- функция валидации (прогон по тестовым данным, вычисление метрик)"
   ]
  },
  {
   "cell_type": "code",
   "execution_count": 17,
   "metadata": {
    "colab": {},
    "colab_type": "code",
    "id": "rVfeDcF-Y8yc"
   },
   "outputs": [],
   "source": [
    "from IPython.display import clear_output\n",
    "from tqdm import trange\n",
    "\n",
    "# функция для итераций по минибатчам, из первого семинара\n",
    "def iterate_minibatches(inputs, targets, batchsize, shuffle=False):\n",
    "    assert len(inputs) == len(targets)\n",
    "    if shuffle:\n",
    "        indices = np.random.permutation(len(inputs))\n",
    "    for start_idx in trange(0, len(inputs) - batchsize + 1, batchsize):\n",
    "        if shuffle:\n",
    "            excerpt = indices[start_idx:start_idx + batchsize]\n",
    "        else:\n",
    "            excerpt = slice(start_idx, start_idx + batchsize)\n",
    "        yield inputs[excerpt], targets[excerpt]"
   ]
  },
  {
   "cell_type": "code",
   "execution_count": 18,
   "metadata": {
    "colab": {},
    "colab_type": "code",
    "id": "qS8wn1JzY8yg"
   },
   "outputs": [],
   "source": [
    "def train(model, optimizer, batchsize=32):\n",
    "    loss_log = []\n",
    "    model.train()\n",
    "    for x_batch, y_batch in iterate_minibatches(X_train, y_train, batchsize=batchsize, shuffle=True):\n",
    "        # data preparation\n",
    "        data = torch.from_numpy(x_batch.astype(np.float32))\n",
    "        target = torch.from_numpy(y_batch.astype(np.int64))\n",
    "\n",
    "        optimizer.zero_grad()\n",
    "        output = model(data)\n",
    "        loss = F.nll_loss(output, target)\n",
    "        # compute gradients\n",
    "        loss.backward()\n",
    "        # make a step\n",
    "        optimizer.step()\n",
    "        loss = loss.item()\n",
    "        loss_log.append(loss)\n",
    "    return loss_log\n",
    "\n",
    "\n",
    "# TODO: написать функцию для валидации по X_val, y_val\n",
    "# hint: optimizer не нужен\n",
    "def test(model):\n",
    "    loss_log = []\n",
    "    model.eval()\n",
    "    with torch.no_grad():\n",
    "        for x_batch, y_batch in iterate_minibatches(X_val, y_val, batchsize=batchsize):\n",
    "            data = torch.from_numpy(x_batch.astype(np.float32))\n",
    "            target = torch.from_numpy(y_batch.astype(np.int64))\n",
    "            output = model(data)\n",
    "            loss = F.nll_loss(output, target)\n",
    "            loss = loss.item()\n",
    "            loss_log.append(loss)\n",
    "    \n",
    "    return loss_log"
   ]
  },
  {
   "cell_type": "markdown",
   "metadata": {
    "colab_type": "text",
    "id": "Yl02nUhoY8yj"
   },
   "source": [
    "Для отслеживания процедуры тренировки построить график"
   ]
  },
  {
   "cell_type": "code",
   "execution_count": 19,
   "metadata": {
    "colab": {},
    "colab_type": "code",
    "id": "8vbRTCJmY8yk"
   },
   "outputs": [],
   "source": [
    "def plot_history(train_history, val_history, title='loss'):\n",
    "    plt.figure()\n",
    "    plt.plot(np.arange(len(train_history)), train_history, color='red', label='train')\n",
    "    epoch_samples_num = len(train_history)/len(val_history)\n",
    "    plt.plot(np.arange(epoch_samples_num-1, len(train_history), epoch_samples_num), val_history,\n",
    "             color='blue', label='val', marker='o')\n",
    "    plt.title(title)\n",
    "    plt.xlabel('train_steps')\n",
    "    plt.ylabel(title)\n",
    "    plt.legend()\n",
    "    plt.show()"
   ]
  },
  {
   "cell_type": "code",
   "execution_count": 20,
   "metadata": {
    "colab": {},
    "colab_type": "code",
    "id": "ZWEroE1_Y8yo"
   },
   "outputs": [
    {
     "data": {
      "image/png": "[encoded data removed]",
      "text/plain": [
       "<Figure size 432x288 with 1 Axes>"
      ]
     },
     "metadata": {
      "needs_background": "light"
     },
     "output_type": "display_data"
    }
   ],
   "source": [
    "train_log = []\n",
    "val_log = []\n",
    "\n",
    "model = Net()\n",
    "opt = torch.optim.RMSprop(model.parameters(), lr=0.001)\n",
    "batchsize = 32\n",
    "\n",
    "for epoch in range(10):\n",
    "    train_loss = train(model, opt, batchsize=batchsize)\n",
    "    train_log.extend(train_loss)\n",
    "    \n",
    "    val_loss = np.mean(test(model))\n",
    "    val_log.append(val_loss)\n",
    "    # TODO: график train_loss vs train_steps с точками val_loss vs trained_steps\n",
    "    \n",
    "    # use your plot_history()\n",
    "    clear_output(wait=True)\n",
    "    plot_history(train_log, val_log)\n",
    "    # hint: train_log and val_log may contain data with different shapes"
   ]
  },
  {
   "cell_type": "markdown",
   "metadata": {
    "colab_type": "text",
    "id": "9gW6UzITY8yt"
   },
   "source": [
    "## Метрики\n",
    "\n",
    "Logloss -- величина, которую трудно интерпретировать. \n",
    "Для отслеживания тренировки и сравнения моделей удобнее наблюдать за интерпретируемыми метриками, например точностью (accuracy)\n",
    "\n",
    "Модифицируйте код train/test функций так, чтобы помимо ошибки подсчитывалась точность за батч:"
   ]
  },
  {
   "cell_type": "code",
   "execution_count": 21,
   "metadata": {
    "colab": {},
    "colab_type": "code",
    "id": "Aa9VK7d3Y8yv"
   },
   "outputs": [
    {
     "data": {
      "image/png": "[encoded data removed]",
      "text/plain": [
       "<Figure size 432x288 with 1 Axes>"
      ]
     },
     "metadata": {
      "needs_background": "light"
     },
     "output_type": "display_data"
    },
    {
     "data": {
      "image/png": "[encoded data removed]",
      "text/plain": [
       "<Figure size 432x288 with 1 Axes>"
      ]
     },
     "metadata": {
      "needs_background": "light"
     },
     "output_type": "display_data"
    }
   ],
   "source": [
    "# TODO: добавьте подсчет точности\n",
    "def train(model, optimizer, batchsize=32):\n",
    "    loss_log, acc_log = [], []\n",
    "    model.train()\n",
    "    for x_batch, y_batch in iterate_minibatches(X_train, y_train, batchsize=batchsize, shuffle=True):\n",
    "        # data preparation\n",
    "        data = torch.from_numpy(x_batch.astype(np.float32))\n",
    "        target = torch.from_numpy(y_batch.astype(np.int64))\n",
    "\n",
    "        optimizer.zero_grad()\n",
    "        output = model(data)\n",
    "        loss = F.nll_loss(output, target)\n",
    "        # compute gradients\n",
    "        loss.backward()\n",
    "        # make a step\n",
    "        optimizer.step()\n",
    "        loss = loss.item()\n",
    "        loss_log.append(loss)\n",
    "        preds = torch.argmax(output, dim=-1)\n",
    "        acc_log.append(torch.mean((preds==target).type(torch.float)))\n",
    "    return loss_log, acc_log\n",
    "\n",
    "\n",
    "# TODO: добавьте подсчет точности:\n",
    "def test(model):\n",
    "    loss_log, acc_log = [], []\n",
    "    \n",
    "    model.eval()\n",
    "    with torch.no_grad():\n",
    "        for x_batch, y_batch in iterate_minibatches(X_val, y_val, batchsize=batchsize):\n",
    "            data = torch.from_numpy(x_batch.astype(np.float32))\n",
    "            target = torch.from_numpy(y_batch.astype(np.int64))\n",
    "            output = model(data)\n",
    "            loss = F.nll_loss(output, target)\n",
    "            loss = loss.item()\n",
    "            loss_log.append(loss)\n",
    "            preds = torch.argmax(output, dim=-1)\n",
    "            acc_log.append(torch.mean((preds==target).type(torch.float)))\n",
    "    return loss_log, acc_log\n",
    "\n",
    "\n",
    "train_log, train_acc_log = [], []\n",
    "val_log, val_acc_log = [], []\n",
    "\n",
    "model = Net()\n",
    "opt = torch.optim.RMSprop(model.parameters(), lr=0.001)\n",
    "batchsize = 32\n",
    "\n",
    "for epoch in range(10):\n",
    "    # train\n",
    "    train_loss, train_acc = train(model, opt, batchsize=batchsize)\n",
    "    train_log.extend(train_loss)\n",
    "    train_acc_log.extend(train_acc)\n",
    "    # test\n",
    "    val_loss, val_acc = test(model)\n",
    "    val_log.append(np.mean(val_loss))\n",
    "    val_acc_log.append(np.mean(val_acc))\n",
    "    \n",
    "    # plot all metrics (loss and acc for train/val)\n",
    "    clear_output(wait=True)\n",
    "    plot_history(train_log, val_log)\n",
    "    plot_history(train_acc_log, val_acc_log, 'accuracy')\n",
    "    "
   ]
  },
  {
   "cell_type": "markdown",
   "metadata": {
    "colab_type": "text",
    "id": "oikbV3efY8yz"
   },
   "source": [
    "## Fine Tuning\n",
    "Для многих прикладных задач не существует больших датасетов с хорошей разметкой. \n",
    "Поэтому распространенным приемом является тренировка на похожем, но большом датасете и доучивание сети на целевом.\n",
    "\n",
    "Такой прием называют **Transfer Learning** или **Finetuning**.\n",
    "\n",
    "В сверточных сетях для классификации выделяют две части:\n",
    "- тело сети -- это набор сверток и пулингов (convolutions and poolings)\n",
    "- голову -- это MLP (набор полносвязных слоев) после которых делается softmax и получаются вероятности разных классов.\n",
    "\n",
    "\n",
    "Вычислительно простым вариантом finetuning является переучивание головы сети.\n",
    "\n",
    "\n",
    "Нам потребуется [предобученная модель](http://pytorch.org/docs/master/torchvision/datasets.html#torchvision-datasets) и датасет для нашей задачи.\n",
    "\n",
    "Предлагется воспользоваться моделью для ImageNet и датасетом  https://download.pytorch.org/tutorial/hymenoptera_data.zip\n",
    "\n",
    "\n",
    "В датасете содержатся картинки двух классов (`ants` и `bees`) разных размеров."
   ]
  },
  {
   "cell_type": "code",
   "execution_count": 22,
   "metadata": {
    "colab": {},
    "colab_type": "code",
    "id": "0a1J3RKxY8y0"
   },
   "outputs": [],
   "source": [
    "# ! wget https://download.pytorch.org/tutorial/hymenoptera_data.zip\n",
    "# ! unzip ./hymenoptera_data.zip"
   ]
  },
  {
   "cell_type": "markdown",
   "metadata": {
    "colab_type": "text",
    "id": "IGVsiVQBY8y4"
   },
   "source": [
    "Загрузчик данных -- одна из важных компонент для эффективного обучения нейронных сетей:\n",
    "асинхронная загрузка и быстрая предобработка важны для полного использования GPU.\n",
    "\n",
    "Для курсовых проектов рекомендуется ознакомиться и использовать [Pytorch Dataset](http://pytorch.org/tutorials/beginner/data_loading_tutorial.html#dataset-class)\n",
    "\n",
    "Пример использования:"
   ]
  },
  {
   "cell_type": "code",
   "execution_count": 23,
   "metadata": {
    "colab": {},
    "colab_type": "code",
    "id": "3Emt8XDoY8y7"
   },
   "outputs": [],
   "source": [
    "%matplotlib inline\n",
    "import torch\n",
    "import torch.nn as nn\n",
    "import torch.optim as optim\n",
    "from torch.optim import lr_scheduler\n",
    "from torch.autograd import Variable\n",
    "import numpy as np\n",
    "import torchvision\n",
    "from torchvision import datasets, models, transforms\n",
    "import matplotlib.pyplot as plt\n",
    "import time\n",
    "import os\n",
    "\n",
    "\n",
    "data_transforms = {\n",
    "    'train': transforms.Compose([\n",
    "        transforms.RandomResizedCrop(224),\n",
    "        transforms.RandomHorizontalFlip(),\n",
    "        transforms.ToTensor(),\n",
    "        transforms.Normalize([0.485, 0.456, 0.406], [0.229, 0.224, 0.225])\n",
    "    ]),\n",
    "    'val': transforms.Compose([\n",
    "        transforms.Resize(256),\n",
    "        transforms.CenterCrop(224),\n",
    "        transforms.ToTensor(),\n",
    "        transforms.Normalize([0.485, 0.456, 0.406], [0.229, 0.224, 0.225])\n",
    "    ]),\n",
    "}\n",
    "\n",
    "data_dir = 'hymenoptera_data'\n",
    "image_datasets = {x: datasets.ImageFolder(os.path.join(data_dir, x),\n",
    "                                          data_transforms[x])\n",
    "                  for x in ['train', 'val']}\n",
    "dataloaders = {x: torch.utils.data.DataLoader(image_datasets[x], batch_size=4,\n",
    "                                             shuffle=True, num_workers=4)\n",
    "              for x in ['train', 'val']}\n",
    "dataset_sizes = {x: len(image_datasets[x]) for x in ['train', 'val']}\n",
    "class_names = image_datasets['train'].classes\n",
    "\n",
    "use_gpu = torch.cuda.is_available()\n",
    "plt.ion()"
   ]
  },
  {
   "cell_type": "code",
   "execution_count": 24,
   "metadata": {},
   "outputs": [
    {
     "data": {
      "text/plain": [
       "{'train': 244, 'val': 153}"
      ]
     },
     "execution_count": 24,
     "metadata": {},
     "output_type": "execute_result"
    }
   ],
   "source": [
    "dataset_sizes"
   ]
  },
  {
   "cell_type": "code",
   "execution_count": 25,
   "metadata": {
    "colab": {},
    "colab_type": "code",
    "id": "zmUYoy7XY8zD"
   },
   "outputs": [
    {
     "data": {
      "image/png": "[encoded data removed]",
      "text/plain": [
       "<Figure size 432x288 with 1 Axes>"
      ]
     },
     "metadata": {
      "needs_background": "light"
     },
     "output_type": "display_data"
    }
   ],
   "source": [
    "def imshow(inp, title=None):\n",
    "    \"\"\"Imshow for Tensor.\"\"\"\n",
    "    inp = inp.numpy().transpose((1, 2, 0))\n",
    "    mean = np.array([0.485, 0.456, 0.406])\n",
    "    std = np.array([0.229, 0.224, 0.225])\n",
    "    inp = std * inp + mean\n",
    "    inp = np.clip(inp, 0, 1)\n",
    "    plt.imshow(inp)\n",
    "    if title is not None:\n",
    "        plt.title(title)\n",
    "    plt.pause(0.1)  # pause a bit so that plots are updated\n",
    "\n",
    "\n",
    "# Get a batch of training data\n",
    "inputs, classes = next(iter(dataloaders['train']))\n",
    "\n",
    "# Make a grid from batch\n",
    "out = torchvision.utils.make_grid(inputs)\n",
    "\n",
    "imshow(out, title=[class_names[x] for x in classes])"
   ]
  },
  {
   "cell_type": "code",
   "execution_count": 26,
   "metadata": {
    "colab": {},
    "colab_type": "code",
    "id": "d5LNGH6DY8zK"
   },
   "outputs": [],
   "source": [
    "# обратите внимание на сохранение лучшей версии весов сети\n",
    "def train_model(model, criterion, optimizer, scheduler, num_epochs=25):\n",
    "    since = time.time()\n",
    "\n",
    "    best_model_wts = model.state_dict()\n",
    "    best_acc = 0.0\n",
    "\n",
    "    for epoch in range(num_epochs):\n",
    "        print('Epoch {}/{}'.format(epoch, num_epochs - 1))\n",
    "        print('-' * 10)\n",
    "\n",
    "        # Each epoch has a training and validation phase\n",
    "        for phase in ['train', 'val']:\n",
    "            if phase == 'train':\n",
    "                scheduler.step()\n",
    "                model.train(True)  # Set model to training mode\n",
    "            else:\n",
    "                model.train(False)  # Set model to evaluate mode\n",
    "\n",
    "            running_loss = 0.0\n",
    "            running_corrects = 0\n",
    "\n",
    "            # Iterate over data.\n",
    "            for data in dataloaders[phase]:\n",
    "                # get the inputs\n",
    "                inputs, labels = data\n",
    "\n",
    "                if use_gpu:\n",
    "                    inputs = inputs.cuda()\n",
    "                    labels = labels.cuda()\n",
    "\n",
    "                # zero the parameter gradients\n",
    "                optimizer.zero_grad()\n",
    "\n",
    "                # forward\n",
    "                outputs = model(inputs)\n",
    "                _, preds = torch.max(outputs, 1)\n",
    "                loss = criterion(outputs, labels)\n",
    "\n",
    "                # backward + optimize only if in training phase\n",
    "                if phase == 'train':\n",
    "                    loss.backward()\n",
    "                    optimizer.step()\n",
    "\n",
    "                # statistics\n",
    "                running_loss += loss.item()\n",
    "                running_corrects += torch.sum(preds == labels).type(torch.float)\n",
    "\n",
    "            epoch_loss = running_loss / dataset_sizes[phase]\n",
    "            epoch_acc = running_corrects / dataset_sizes[phase]\n",
    "\n",
    "            print('{} Loss: {:.4f} Acc: {:.4f}'.format(\n",
    "                phase, epoch_loss, epoch_acc))\n",
    "\n",
    "            # deep copy the model\n",
    "            if phase == 'val' and epoch_acc > best_acc:\n",
    "                best_acc = epoch_acc\n",
    "                best_model_wts = model.state_dict()\n",
    "        \n",
    "        time_elapsed = time.time() - since\n",
    "        print('Elapsed {:.0f}m {:.0f}s\\n'.format(time_elapsed // 60, time_elapsed % 60))\n",
    "\n",
    "    time_elapsed = time.time() - since\n",
    "    print('Training complete in {:.0f}m {:.0f}s'.format(\n",
    "        time_elapsed // 60, time_elapsed % 60))\n",
    "    print('Best val Acc: {:4f}'.format(best_acc))\n",
    "\n",
    "    # load best model weights\n",
    "    model.load_state_dict(best_model_wts)\n",
    "    return model"
   ]
  },
  {
   "cell_type": "code",
   "execution_count": 27,
   "metadata": {
    "colab": {},
    "colab_type": "code",
    "id": "LkG9Pa3mY8zP"
   },
   "outputs": [
    {
     "data": {
      "text/plain": [
       "['AlexNet',\n",
       " 'DenseNet',\n",
       " 'GoogLeNet',\n",
       " 'GoogLeNetOutputs',\n",
       " 'Inception3',\n",
       " 'InceptionOutputs',\n",
       " 'MNASNet',\n",
       " 'MobileNetV2',\n",
       " 'ResNet',\n",
       " 'ShuffleNetV2',\n",
       " 'SqueezeNet',\n",
       " 'VGG',\n",
       " 'alexnet',\n",
       " 'densenet',\n",
       " 'densenet121',\n",
       " 'densenet161',\n",
       " 'densenet169',\n",
       " 'densenet201',\n",
       " 'detection',\n",
       " 'googlenet',\n",
       " 'inception',\n",
       " 'inception_v3',\n",
       " 'mnasnet',\n",
       " 'mnasnet0_5',\n",
       " 'mnasnet0_75',\n",
       " 'mnasnet1_0',\n",
       " 'mnasnet1_3',\n",
       " 'mobilenet',\n",
       " 'mobilenet_v2',\n",
       " 'quantization',\n",
       " 'resnet',\n",
       " 'resnet101',\n",
       " 'resnet152',\n",
       " 'resnet18',\n",
       " 'resnet34',\n",
       " 'resnet50',\n",
       " 'resnext101_32x8d',\n",
       " 'resnext50_32x4d',\n",
       " 'segmentation',\n",
       " 'shufflenet_v2_x0_5',\n",
       " 'shufflenet_v2_x1_0',\n",
       " 'shufflenet_v2_x1_5',\n",
       " 'shufflenet_v2_x2_0',\n",
       " 'shufflenetv2',\n",
       " 'squeezenet',\n",
       " 'squeezenet1_0',\n",
       " 'squeezenet1_1',\n",
       " 'utils',\n",
       " 'vgg',\n",
       " 'vgg11',\n",
       " 'vgg11_bn',\n",
       " 'vgg13',\n",
       " 'vgg13_bn',\n",
       " 'vgg16',\n",
       " 'vgg16_bn',\n",
       " 'vgg19',\n",
       " 'vgg19_bn',\n",
       " 'video',\n",
       " 'wide_resnet101_2',\n",
       " 'wide_resnet50_2']"
      ]
     },
     "execution_count": 27,
     "metadata": {},
     "output_type": "execute_result"
    }
   ],
   "source": [
    "# torchvision содержит ряд моделей с претрейненными весами:\n",
    "[m for m in dir(models) if not m.startswith('_')]"
   ]
  },
  {
   "cell_type": "code",
   "execution_count": 28,
   "metadata": {
    "colab": {},
    "colab_type": "code",
    "id": "f1ZvVhmnY8zS"
   },
   "outputs": [],
   "source": [
    "model_ft = models.resnet18(pretrained=True)\n",
    "# hint: вы можете изучить устройство любого объекта в python пользуясь интерактивностью интерпретатора и методом dir()\n",
    "# Список слоев модели можно получить с помощью обхода\n",
    "# for x in model_ft.named_modules():\n",
    "#    print(x[0], x[1])\n",
    "\n",
    "# TODO: подмените в модели последний слой, чтобы она работала для двух классов\n",
    "\n",
    "model_ft.fc = nn.Linear(model_ft.fc.in_features, 2)\n",
    "\n",
    "# TODO: выберите, какие параметры дообучать. Результат получается лучше если дообучать всё или только последний слой? Почему?\n",
    "# например, выключить обучение всех параметров можно при помощи этого кода:\n",
    "# for params in model_ft.parameters():\n",
    "#     params.requires_grad = False \n",
    "\n",
    "params_to_train = model_ft.fc.parameters()\n",
    "#params_to_train = model_ft.parameters()\n",
    "# use GPU if you have it\n",
    "if use_gpu:\n",
    "    model_ft = model_ft.cuda()\n",
    "\n",
    "# loss\n",
    "criterion = nn.CrossEntropyLoss()\n",
    "\n",
    "# Create optimizer on the selected parameters\n",
    "optimizer_ft = optim.SGD(params_to_train, lr=0.001, momentum=0.9)\n",
    "\n",
    "# Decay LR by a factor of 0.1 every 7 epochs\n",
    "exp_lr_scheduler = lr_scheduler.StepLR(optimizer_ft, step_size=7, gamma=0.1)"
   ]
  },
  {
   "cell_type": "code",
   "execution_count": 29,
   "metadata": {
    "colab": {},
    "colab_type": "code",
    "id": "cy1wlPmxY8zW"
   },
   "outputs": [
    {
     "name": "stdout",
     "output_type": "stream",
     "text": [
      "Epoch 0/24\n",
      "----------\n"
     ]
    },
    {
     "name": "stderr",
     "output_type": "stream",
     "text": [
      "/home/mikhail/.local/lib/python3.6/site-packages/torch/optim/lr_scheduler.py:123: UserWarning: Detected call of `lr_scheduler.step()` before `optimizer.step()`. In PyTorch 1.1.0 and later, you should call them in the opposite order: `optimizer.step()` before `lr_scheduler.step()`.  Failure to do this will result in PyTorch skipping the first value of the learning rate schedule. See more details at https://pytorch.org/docs/stable/optim.html#how-to-adjust-learning-rate\n",
      "  \"https://pytorch.org/docs/stable/optim.html#how-to-adjust-learning-rate\", UserWarning)\n"
     ]
    },
    {
     "name": "stdout",
     "output_type": "stream",
     "text": [
      "train Loss: 0.1809 Acc: 0.6148\n",
      "val Loss: 0.0626 Acc: 0.9085\n",
      "Elapsed 0m 2s\n",
      "\n",
      "Epoch 1/24\n",
      "----------\n",
      "train Loss: 0.1358 Acc: 0.7377\n",
      "val Loss: 0.0530 Acc: 0.9346\n",
      "Elapsed 0m 3s\n",
      "\n",
      "Epoch 2/24\n",
      "----------\n",
      "train Loss: 0.1211 Acc: 0.7992\n",
      "val Loss: 0.0542 Acc: 0.9216\n",
      "Elapsed 0m 4s\n",
      "\n",
      "Epoch 3/24\n",
      "----------\n",
      "train Loss: 0.1412 Acc: 0.7787\n",
      "val Loss: 0.0456 Acc: 0.9412\n",
      "Elapsed 0m 5s\n",
      "\n",
      "Epoch 4/24\n",
      "----------\n",
      "train Loss: 0.1177 Acc: 0.7910\n",
      "val Loss: 0.0447 Acc: 0.9412\n",
      "Elapsed 0m 6s\n",
      "\n",
      "Epoch 5/24\n",
      "----------\n",
      "train Loss: 0.0928 Acc: 0.8402\n",
      "val Loss: 0.0487 Acc: 0.9346\n",
      "Elapsed 0m 8s\n",
      "\n",
      "Epoch 6/24\n",
      "----------\n",
      "train Loss: 0.1062 Acc: 0.8197\n",
      "val Loss: 0.0466 Acc: 0.9346\n",
      "Elapsed 0m 9s\n",
      "\n",
      "Epoch 7/24\n",
      "----------\n",
      "train Loss: 0.0818 Acc: 0.8689\n",
      "val Loss: 0.0435 Acc: 0.9412\n",
      "Elapsed 0m 10s\n",
      "\n",
      "Epoch 8/24\n",
      "----------\n",
      "train Loss: 0.1042 Acc: 0.7992\n",
      "val Loss: 0.0435 Acc: 0.9346\n",
      "Elapsed 0m 11s\n",
      "\n",
      "Epoch 9/24\n",
      "----------\n",
      "train Loss: 0.0755 Acc: 0.8934\n",
      "val Loss: 0.0419 Acc: 0.9477\n",
      "Elapsed 0m 13s\n",
      "\n",
      "Epoch 10/24\n",
      "----------\n",
      "train Loss: 0.0864 Acc: 0.8607\n",
      "val Loss: 0.0431 Acc: 0.9346\n",
      "Elapsed 0m 14s\n",
      "\n",
      "Epoch 11/24\n",
      "----------\n",
      "train Loss: 0.0884 Acc: 0.8443\n",
      "val Loss: 0.0516 Acc: 0.9477\n",
      "Elapsed 0m 15s\n",
      "\n",
      "Epoch 12/24\n",
      "----------\n",
      "train Loss: 0.0731 Acc: 0.8648\n",
      "val Loss: 0.0424 Acc: 0.9477\n",
      "Elapsed 0m 16s\n",
      "\n",
      "Epoch 13/24\n",
      "----------\n",
      "train Loss: 0.1013 Acc: 0.8033\n",
      "val Loss: 0.0461 Acc: 0.9542\n",
      "Elapsed 0m 17s\n",
      "\n",
      "Epoch 14/24\n",
      "----------\n",
      "train Loss: 0.1017 Acc: 0.8115\n",
      "val Loss: 0.0434 Acc: 0.9412\n",
      "Elapsed 0m 19s\n",
      "\n",
      "Epoch 15/24\n",
      "----------\n",
      "train Loss: 0.0963 Acc: 0.8443\n",
      "val Loss: 0.0468 Acc: 0.9412\n",
      "Elapsed 0m 20s\n",
      "\n",
      "Epoch 16/24\n",
      "----------\n",
      "train Loss: 0.0930 Acc: 0.8361\n",
      "val Loss: 0.0453 Acc: 0.9542\n",
      "Elapsed 0m 21s\n",
      "\n",
      "Epoch 17/24\n",
      "----------\n",
      "train Loss: 0.0851 Acc: 0.8730\n",
      "val Loss: 0.0452 Acc: 0.9412\n",
      "Elapsed 0m 22s\n",
      "\n",
      "Epoch 18/24\n",
      "----------\n",
      "train Loss: 0.0745 Acc: 0.8689\n",
      "val Loss: 0.0508 Acc: 0.9216\n",
      "Elapsed 0m 24s\n",
      "\n",
      "Epoch 19/24\n",
      "----------\n",
      "train Loss: 0.0902 Acc: 0.8361\n",
      "val Loss: 0.0518 Acc: 0.9281\n",
      "Elapsed 0m 25s\n",
      "\n",
      "Epoch 20/24\n",
      "----------\n",
      "train Loss: 0.0968 Acc: 0.8115\n",
      "val Loss: 0.0436 Acc: 0.9477\n",
      "Elapsed 0m 26s\n",
      "\n",
      "Epoch 21/24\n",
      "----------\n",
      "train Loss: 0.0759 Acc: 0.8279\n",
      "val Loss: 0.0463 Acc: 0.9346\n",
      "Elapsed 0m 27s\n",
      "\n",
      "Epoch 22/24\n",
      "----------\n",
      "train Loss: 0.0703 Acc: 0.8648\n",
      "val Loss: 0.0486 Acc: 0.9150\n",
      "Elapsed 0m 28s\n",
      "\n",
      "Epoch 23/24\n",
      "----------\n",
      "train Loss: 0.0822 Acc: 0.8566\n",
      "val Loss: 0.0464 Acc: 0.9346\n",
      "Elapsed 0m 30s\n",
      "\n",
      "Epoch 24/24\n",
      "----------\n",
      "train Loss: 0.0838 Acc: 0.8443\n",
      "val Loss: 0.0429 Acc: 0.9608\n",
      "Elapsed 0m 31s\n",
      "\n",
      "Training complete in 0m 31s\n",
      "Best val Acc: 0.960784\n"
     ]
    }
   ],
   "source": [
    "model_ft = train_model(\n",
    "    model_ft, criterion, optimizer_ft, exp_lr_scheduler, num_epochs=25)\n",
    "# если всё сделано правильно, то точность на валидации должна быть больше 94%"
   ]
  },
  {
   "cell_type": "markdown",
   "metadata": {},
   "source": [
    "Обучаем все слои:\n",
    "\n",
    "Best val Acc: 0.947712\n",
    "\n",
    "Обучаем только последний слой:\n",
    "\n",
    "Best val Acc: 0.960784, тк датасет маленький то разумнее размораживать только последний слой, меньше вероятность оверфита"
   ]
  },
  {
   "cell_type": "code",
   "execution_count": 30,
   "metadata": {
    "colab": {},
    "colab_type": "code",
    "id": "LR4Fi3qTY8zc"
   },
   "outputs": [
    {
     "data": {
      "image/png": "[encoded data removed]",
      "text/plain": [
       "<Figure size 432x288 with 1 Axes>"
      ]
     },
     "metadata": {
      "needs_background": "light"
     },
     "output_type": "display_data"
    }
   ],
   "source": [
    "# TODO: напишите функцию, прогоняющую модель на нескольких примерах из валидационной выборки\n",
    "# Отобразите картинки и предсказания\n",
    "\n",
    "\n",
    "\n",
    "def visualize(model, num_images=10):\n",
    "\n",
    "    inputs, classes = next(iter(dataloaders['val']))\n",
    "    out = torchvision.utils.make_grid(inputs)\n",
    "    model.eval()\n",
    "    with torch.no_grad():\n",
    "        if use_gpu:\n",
    "            inputs = inputs.cuda()\n",
    "        logits = model(inputs)\n",
    "        preds = torch.argmax(logits, dim=-1)\n",
    "    # Make a grid from batch\n",
    "    \n",
    "    title = 'Labels:        '+ ', '.join([class_names[x] for x in classes]) + '\\nPredictions: ' + ', '.join([class_names[x] for x in preds])\n",
    "    imshow(out, title=title)\n",
    "            \n",
    "visualize(model_ft)"
   ]
  },
  {
   "cell_type": "code",
   "execution_count": null,
   "metadata": {},
   "outputs": [],
   "source": []
  }
 ],
 "metadata": {
  "accelerator": "GPU",
  "colab": {
   "collapsed_sections": [],
   "name": "dl-hw.ipynb",
   "provenance": []
  },
  "kernelspec": {
   "display_name": "Python 3",
   "language": "python",
   "name": "python3"
  },
  "language_info": {
   "codemirror_mode": {
    "name": "ipython",
    "version": 3
   },
   "file_extension": ".py",
   "mimetype": "text/x-python",
   "name": "python",
   "nbconvert_exporter": "python",
   "pygments_lexer": "ipython3",
   "version": "3.6.9"
  }
 },
 "nbformat": 4,
 "nbformat_minor": 1
}
